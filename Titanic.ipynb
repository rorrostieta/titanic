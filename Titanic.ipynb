{
 "cells": [
  {
   "cell_type": "markdown",
   "metadata": {},
   "source": [
    "# Intro to Machine Learning: Supervised Learning\n",
    "### Titanic ML models analysis\n",
    "This is the project with the objective to predict if a Titatnic passenger survied. This is a Kaggle dataset used for the competition to see who can build a good predictor for the problem.\n",
    "\n",
    "#### Libraries to Import"
   ]
  },
  {
   "cell_type": "code",
   "execution_count": 1,
   "metadata": {},
   "outputs": [],
   "source": [
    "import pandas as pd\n",
    "import numpy as np\n",
    "import seaborn as sns\n",
    "from matplotlib import pyplot as plt\n",
    "\n",
    "#sklean libraries\n",
    "from sklearn.preprocessing import StandardScaler, OneHotEncoder\n",
    "from sklearn.tree import DecisionTreeClassifier\n",
    "from sklearn.ensemble import RandomForestClassifier, AdaBoostClassifier\n",
    "from sklearn.linear_model import LogisticRegression\n",
    "from sklearn.svm import SVC\n",
    "from sklearn.model_selection import cross_val_score, GridSearchCV\n",
    "from sklearn.metrics import confusion_matrix, accuracy_score"
   ]
  },
  {
   "cell_type": "markdown",
   "metadata": {},
   "source": [
    "#### Data Sourcing and EDA\n",
    "\n",
    "First I'm going to read the CSV from the data set I'm focusing on to make them usable in this notebook. After we verify the data is all set up I'm going to do some EDA to see what we might need to modify in order to run it through the models and predict the **Survived** column."
   ]
  },
  {
   "cell_type": "code",
   "execution_count": 2,
   "metadata": {},
   "outputs": [],
   "source": [
    "# Upload Data\n",
    "test_result = pd.read_csv('./data/gender_submission.csv')\n",
    "test_features = pd.read_csv('./data/test.csv')\n",
    "train = pd.read_csv('./data/train.csv')\n",
    "test = pd.merge(test_features,test_result, on='PassengerId')"
   ]
  },
  {
   "cell_type": "code",
   "execution_count": 3,
   "metadata": {},
   "outputs": [
    {
     "data": {
      "text/html": [
       "<div>\n",
       "<style scoped>\n",
       "    .dataframe tbody tr th:only-of-type {\n",
       "        vertical-align: middle;\n",
       "    }\n",
       "\n",
       "    .dataframe tbody tr th {\n",
       "        vertical-align: top;\n",
       "    }\n",
       "\n",
       "    .dataframe thead th {\n",
       "        text-align: right;\n",
       "    }\n",
       "</style>\n",
       "<table border=\"1\" class=\"dataframe\">\n",
       "  <thead>\n",
       "    <tr style=\"text-align: right;\">\n",
       "      <th></th>\n",
       "      <th>PassengerId</th>\n",
       "      <th>Survived</th>\n",
       "      <th>Pclass</th>\n",
       "      <th>Name</th>\n",
       "      <th>Sex</th>\n",
       "      <th>Age</th>\n",
       "      <th>SibSp</th>\n",
       "      <th>Parch</th>\n",
       "      <th>Ticket</th>\n",
       "      <th>Fare</th>\n",
       "      <th>Cabin</th>\n",
       "      <th>Embarked</th>\n",
       "    </tr>\n",
       "  </thead>\n",
       "  <tbody>\n",
       "    <tr>\n",
       "      <th>0</th>\n",
       "      <td>1</td>\n",
       "      <td>0</td>\n",
       "      <td>3</td>\n",
       "      <td>Braund, Mr. Owen Harris</td>\n",
       "      <td>male</td>\n",
       "      <td>22.0</td>\n",
       "      <td>1</td>\n",
       "      <td>0</td>\n",
       "      <td>A/5 21171</td>\n",
       "      <td>7.2500</td>\n",
       "      <td>NaN</td>\n",
       "      <td>S</td>\n",
       "    </tr>\n",
       "    <tr>\n",
       "      <th>1</th>\n",
       "      <td>2</td>\n",
       "      <td>1</td>\n",
       "      <td>1</td>\n",
       "      <td>Cumings, Mrs. John Bradley (Florence Briggs Th...</td>\n",
       "      <td>female</td>\n",
       "      <td>38.0</td>\n",
       "      <td>1</td>\n",
       "      <td>0</td>\n",
       "      <td>PC 17599</td>\n",
       "      <td>71.2833</td>\n",
       "      <td>C85</td>\n",
       "      <td>C</td>\n",
       "    </tr>\n",
       "    <tr>\n",
       "      <th>2</th>\n",
       "      <td>3</td>\n",
       "      <td>1</td>\n",
       "      <td>3</td>\n",
       "      <td>Heikkinen, Miss. Laina</td>\n",
       "      <td>female</td>\n",
       "      <td>26.0</td>\n",
       "      <td>0</td>\n",
       "      <td>0</td>\n",
       "      <td>STON/O2. 3101282</td>\n",
       "      <td>7.9250</td>\n",
       "      <td>NaN</td>\n",
       "      <td>S</td>\n",
       "    </tr>\n",
       "    <tr>\n",
       "      <th>3</th>\n",
       "      <td>4</td>\n",
       "      <td>1</td>\n",
       "      <td>1</td>\n",
       "      <td>Futrelle, Mrs. Jacques Heath (Lily May Peel)</td>\n",
       "      <td>female</td>\n",
       "      <td>35.0</td>\n",
       "      <td>1</td>\n",
       "      <td>0</td>\n",
       "      <td>113803</td>\n",
       "      <td>53.1000</td>\n",
       "      <td>C123</td>\n",
       "      <td>S</td>\n",
       "    </tr>\n",
       "    <tr>\n",
       "      <th>4</th>\n",
       "      <td>5</td>\n",
       "      <td>0</td>\n",
       "      <td>3</td>\n",
       "      <td>Allen, Mr. William Henry</td>\n",
       "      <td>male</td>\n",
       "      <td>35.0</td>\n",
       "      <td>0</td>\n",
       "      <td>0</td>\n",
       "      <td>373450</td>\n",
       "      <td>8.0500</td>\n",
       "      <td>NaN</td>\n",
       "      <td>S</td>\n",
       "    </tr>\n",
       "  </tbody>\n",
       "</table>\n",
       "</div>"
      ],
      "text/plain": [
       "   PassengerId  Survived  Pclass  \\\n",
       "0            1         0       3   \n",
       "1            2         1       1   \n",
       "2            3         1       3   \n",
       "3            4         1       1   \n",
       "4            5         0       3   \n",
       "\n",
       "                                                Name     Sex   Age  SibSp  \\\n",
       "0                            Braund, Mr. Owen Harris    male  22.0      1   \n",
       "1  Cumings, Mrs. John Bradley (Florence Briggs Th...  female  38.0      1   \n",
       "2                             Heikkinen, Miss. Laina  female  26.0      0   \n",
       "3       Futrelle, Mrs. Jacques Heath (Lily May Peel)  female  35.0      1   \n",
       "4                           Allen, Mr. William Henry    male  35.0      0   \n",
       "\n",
       "   Parch            Ticket     Fare Cabin Embarked  \n",
       "0      0         A/5 21171   7.2500   NaN        S  \n",
       "1      0          PC 17599  71.2833   C85        C  \n",
       "2      0  STON/O2. 3101282   7.9250   NaN        S  \n",
       "3      0            113803  53.1000  C123        S  \n",
       "4      0            373450   8.0500   NaN        S  "
      ]
     },
     "execution_count": 3,
     "metadata": {},
     "output_type": "execute_result"
    }
   ],
   "source": [
    "# EDA\n",
    "train.head()"
   ]
  },
  {
   "cell_type": "code",
   "execution_count": 4,
   "metadata": {},
   "outputs": [
    {
     "data": {
      "text/html": [
       "<div>\n",
       "<style scoped>\n",
       "    .dataframe tbody tr th:only-of-type {\n",
       "        vertical-align: middle;\n",
       "    }\n",
       "\n",
       "    .dataframe tbody tr th {\n",
       "        vertical-align: top;\n",
       "    }\n",
       "\n",
       "    .dataframe thead th {\n",
       "        text-align: right;\n",
       "    }\n",
       "</style>\n",
       "<table border=\"1\" class=\"dataframe\">\n",
       "  <thead>\n",
       "    <tr style=\"text-align: right;\">\n",
       "      <th></th>\n",
       "      <th>PassengerId</th>\n",
       "      <th>Survived</th>\n",
       "      <th>Pclass</th>\n",
       "      <th>Age</th>\n",
       "      <th>SibSp</th>\n",
       "      <th>Parch</th>\n",
       "      <th>Fare</th>\n",
       "    </tr>\n",
       "  </thead>\n",
       "  <tbody>\n",
       "    <tr>\n",
       "      <th>count</th>\n",
       "      <td>891.000000</td>\n",
       "      <td>891.000000</td>\n",
       "      <td>891.000000</td>\n",
       "      <td>714.000000</td>\n",
       "      <td>891.000000</td>\n",
       "      <td>891.000000</td>\n",
       "      <td>891.000000</td>\n",
       "    </tr>\n",
       "    <tr>\n",
       "      <th>mean</th>\n",
       "      <td>446.000000</td>\n",
       "      <td>0.383838</td>\n",
       "      <td>2.308642</td>\n",
       "      <td>29.699118</td>\n",
       "      <td>0.523008</td>\n",
       "      <td>0.381594</td>\n",
       "      <td>32.204208</td>\n",
       "    </tr>\n",
       "    <tr>\n",
       "      <th>std</th>\n",
       "      <td>257.353842</td>\n",
       "      <td>0.486592</td>\n",
       "      <td>0.836071</td>\n",
       "      <td>14.526497</td>\n",
       "      <td>1.102743</td>\n",
       "      <td>0.806057</td>\n",
       "      <td>49.693429</td>\n",
       "    </tr>\n",
       "    <tr>\n",
       "      <th>min</th>\n",
       "      <td>1.000000</td>\n",
       "      <td>0.000000</td>\n",
       "      <td>1.000000</td>\n",
       "      <td>0.420000</td>\n",
       "      <td>0.000000</td>\n",
       "      <td>0.000000</td>\n",
       "      <td>0.000000</td>\n",
       "    </tr>\n",
       "    <tr>\n",
       "      <th>25%</th>\n",
       "      <td>223.500000</td>\n",
       "      <td>0.000000</td>\n",
       "      <td>2.000000</td>\n",
       "      <td>20.125000</td>\n",
       "      <td>0.000000</td>\n",
       "      <td>0.000000</td>\n",
       "      <td>7.910400</td>\n",
       "    </tr>\n",
       "    <tr>\n",
       "      <th>50%</th>\n",
       "      <td>446.000000</td>\n",
       "      <td>0.000000</td>\n",
       "      <td>3.000000</td>\n",
       "      <td>28.000000</td>\n",
       "      <td>0.000000</td>\n",
       "      <td>0.000000</td>\n",
       "      <td>14.454200</td>\n",
       "    </tr>\n",
       "    <tr>\n",
       "      <th>75%</th>\n",
       "      <td>668.500000</td>\n",
       "      <td>1.000000</td>\n",
       "      <td>3.000000</td>\n",
       "      <td>38.000000</td>\n",
       "      <td>1.000000</td>\n",
       "      <td>0.000000</td>\n",
       "      <td>31.000000</td>\n",
       "    </tr>\n",
       "    <tr>\n",
       "      <th>max</th>\n",
       "      <td>891.000000</td>\n",
       "      <td>1.000000</td>\n",
       "      <td>3.000000</td>\n",
       "      <td>80.000000</td>\n",
       "      <td>8.000000</td>\n",
       "      <td>6.000000</td>\n",
       "      <td>512.329200</td>\n",
       "    </tr>\n",
       "  </tbody>\n",
       "</table>\n",
       "</div>"
      ],
      "text/plain": [
       "       PassengerId    Survived      Pclass         Age       SibSp  \\\n",
       "count   891.000000  891.000000  891.000000  714.000000  891.000000   \n",
       "mean    446.000000    0.383838    2.308642   29.699118    0.523008   \n",
       "std     257.353842    0.486592    0.836071   14.526497    1.102743   \n",
       "min       1.000000    0.000000    1.000000    0.420000    0.000000   \n",
       "25%     223.500000    0.000000    2.000000   20.125000    0.000000   \n",
       "50%     446.000000    0.000000    3.000000   28.000000    0.000000   \n",
       "75%     668.500000    1.000000    3.000000   38.000000    1.000000   \n",
       "max     891.000000    1.000000    3.000000   80.000000    8.000000   \n",
       "\n",
       "            Parch        Fare  \n",
       "count  891.000000  891.000000  \n",
       "mean     0.381594   32.204208  \n",
       "std      0.806057   49.693429  \n",
       "min      0.000000    0.000000  \n",
       "25%      0.000000    7.910400  \n",
       "50%      0.000000   14.454200  \n",
       "75%      0.000000   31.000000  \n",
       "max      6.000000  512.329200  "
      ]
     },
     "execution_count": 4,
     "metadata": {},
     "output_type": "execute_result"
    }
   ],
   "source": [
    "train.describe()"
   ]
  },
  {
   "cell_type": "code",
   "execution_count": 5,
   "metadata": {},
   "outputs": [
    {
     "name": "stdout",
     "output_type": "stream",
     "text": [
      "PassengerId      0\n",
      "Survived         0\n",
      "Pclass           0\n",
      "Name             0\n",
      "Sex              0\n",
      "Age            177\n",
      "SibSp            0\n",
      "Parch            0\n",
      "Ticket           0\n",
      "Fare             0\n",
      "Cabin          687\n",
      "Embarked         2\n",
      "dtype: int64 PassengerId     0.000000\n",
      "Survived        0.000000\n",
      "Pclass          0.000000\n",
      "Name            0.000000\n",
      "Sex             0.000000\n",
      "Age            19.865320\n",
      "SibSp           0.000000\n",
      "Parch           0.000000\n",
      "Ticket          0.000000\n",
      "Fare            0.000000\n",
      "Cabin          77.104377\n",
      "Embarked        0.224467\n",
      "dtype: float64\n"
     ]
    }
   ],
   "source": [
    "missing_info = train.isna().sum()\n",
    "missing_info_percent = missing_info/train.shape[0] * 100\n",
    "print(missing_info, missing_info_percent)"
   ]
  },
  {
   "cell_type": "markdown",
   "metadata": {},
   "source": [
    "From this first overview we can see that the dataset has both numeric and categorical fields.\n",
    "* Numeric: age, sibsp, parch, fare\n",
    "* Categorical: pcalss, sex, embarked\n",
    "* Other features: name, ticket, cabin, passengerid\n",
    "\n",
    "The reason I'm point out ther are other features is because we might be able to drop these from the features because of the following reasons:\n",
    "* Names: This is irrelevant data that brings no value to the objective of the model, this might add noise and every single value is different.\n",
    "* Ticket: Similar to the name every ticket number might be able to help but the possibility is really low, we might need to deep dive on the ticket numbers to attain some context on what does the numbers and letters mean in the ticket feature.\n",
    "* Cabin: Derived from our EDA we see that **77%** of the data is missing so I've decided to get rid of this feature\n",
    "* PassengerID: this one was basically used to identify each passenger but for this case we do not need that information since we want random samples and we've been provided a train and test sets."
   ]
  },
  {
   "cell_type": "code",
   "execution_count": 6,
   "metadata": {},
   "outputs": [],
   "source": [
    "#Impute missing Values of Age with median looking at the histogram\n",
    "train['Age'].fillna(train['Age'].median(), inplace=True)\n",
    "\n",
    "test['Age'].fillna(test['Age'].median(), inplace=True)\n",
    "test['Fare'].fillna(test['Fare'].median(), inplace=True)"
   ]
  },
  {
   "cell_type": "code",
   "execution_count": 7,
   "metadata": {},
   "outputs": [
    {
     "data": {
      "text/plain": [
       "array([[<AxesSubplot:title={'center':'Age'}>,\n",
       "        <AxesSubplot:title={'center':'SibSp'}>],\n",
       "       [<AxesSubplot:title={'center':'Parch'}>,\n",
       "        <AxesSubplot:title={'center':'Fare'}>]], dtype=object)"
      ]
     },
     "execution_count": 7,
     "metadata": {},
     "output_type": "execute_result"
    },
    {
     "data": {
      "image/png": "[encoded data removed]",
      "text/plain": [
       "<Figure size 1080x720 with 4 Axes>"
      ]
     },
     "metadata": {
      "needs_background": "light"
     },
     "output_type": "display_data"
    }
   ],
   "source": [
    "# Numeric Feature EDA\n",
    "numeric_feature = train[['Age', 'SibSp', 'Parch', 'Fare']]\n",
    "numeric_feature.hist(figsize= (15, 10))"
   ]
  },
  {
   "cell_type": "code",
   "execution_count": 8,
   "metadata": {},
   "outputs": [
    {
     "data": {
      "text/plain": [
       "array([[<AxesSubplot:title={'center':'Age'}>,\n",
       "        <AxesSubplot:title={'center':'SibSp'}>],\n",
       "       [<AxesSubplot:title={'center':'Parch'}>,\n",
       "        <AxesSubplot:title={'center':'Fare'}>]], dtype=object)"
      ]
     },
     "execution_count": 8,
     "metadata": {},
     "output_type": "execute_result"
    },
    {
     "data": {
      "image/png": "[encoded data removed]",
      "text/plain": [
       "<Figure size 1080x720 with 4 Axes>"
      ]
     },
     "metadata": {
      "needs_background": "light"
     },
     "output_type": "display_data"
    }
   ],
   "source": [
    "# Scaling 'Age' for the model\n",
    "scaler = StandardScaler()\n",
    "train['Age'] = scaler.fit_transform(train[['Age']])\n",
    "test['Age'] = scaler.fit_transform(test[['Age']])  \n",
    "\n",
    "# Removing skewness of the rest of the parameters\n",
    "train['Fare'] = np.log(train['Fare'] + 0.01)\n",
    "test['Fare'] = np.log(test['Fare'] + 0.01)\n",
    "\n",
    "train[['Age', 'SibSp', 'Parch', 'Fare']].hist(figsize=(15,10))"
   ]
  },
  {
   "cell_type": "markdown",
   "metadata": {},
   "source": [
    "In this case we see that both Parch and SibSp are quite difficult to scale and remove skewness due to this information and knowing that this values are `SibSp` Number of Siblings/Spouses aboard and `Parch` Number of Parents/Children which might create some correlation between the values we create a categorical feature to see if they boarded alone or not."
   ]
  },
  {
   "cell_type": "code",
   "execution_count": 9,
   "metadata": {},
   "outputs": [
    {
     "name": "stderr",
     "output_type": "stream",
     "text": [
      "C:\\Users\\ruben\\AppData\\Local\\Temp\\ipykernel_6608\\947491048.py:5: SettingWithCopyWarning: \n",
      "A value is trying to be set on a copy of a slice from a DataFrame\n",
      "\n",
      "See the caveats in the documentation: https://pandas.pydata.org/pandas-docs/stable/user_guide/indexing.html#returning-a-view-versus-a-copy\n",
      "  train['Alone'][index] = 0\n",
      "C:\\Users\\ruben\\AppData\\Local\\Temp\\ipykernel_6608\\947491048.py:7: SettingWithCopyWarning: \n",
      "A value is trying to be set on a copy of a slice from a DataFrame\n",
      "\n",
      "See the caveats in the documentation: https://pandas.pydata.org/pandas-docs/stable/user_guide/indexing.html#returning-a-view-versus-a-copy\n",
      "  train['Alone'][index] = 1\n"
     ]
    }
   ],
   "source": [
    "train['Alone'] = train['SibSp'] + train['Parch']\n",
    "\n",
    "for index in range(len(train)):\n",
    "    if train['Alone'][index] != 0:\n",
    "        train['Alone'][index] = 0\n",
    "    else:\n",
    "        train['Alone'][index] = 1"
   ]
  },
  {
   "cell_type": "code",
   "execution_count": 10,
   "metadata": {},
   "outputs": [
    {
     "name": "stdout",
     "output_type": "stream",
     "text": [
      "Values to impute: 2\n",
      "S    644\n",
      "C    168\n",
      "Q     77\n",
      "Name: Embarked, dtype: int64\n"
     ]
    }
   ],
   "source": [
    "# Categoric Feature EDA\n",
    "print('Values to impute:',train['Embarked'].isna().sum())\n",
    "print(train['Embarked'].value_counts())"
   ]
  },
  {
   "cell_type": "code",
   "execution_count": 11,
   "metadata": {},
   "outputs": [],
   "source": [
    "train['Embarked'].fillna('S', inplace=True)"
   ]
  },
  {
   "cell_type": "code",
   "execution_count": 12,
   "metadata": {},
   "outputs": [],
   "source": [
    "oneHot = OneHotEncoder(categories='auto', handle_unknown='ignore')\n",
    "feature_array = oneHot.fit_transform(train[['Pclass', 'Sex', 'Embarked']]).toarray()\n",
    "\n",
    "feature_labels = oneHot.categories_\n",
    "feature_labels = list(np.concatenate(feature_labels).flat)\n",
    "feature_labels[0] = 'C1'\n",
    "feature_labels[1] = 'C2'\n",
    "feature_labels[2] = 'C3'\n",
    "\n",
    "encoded_features = pd.DataFrame(feature_array, columns=feature_labels)\n",
    "\n",
    "interestdf = train.merge(encoded_features, left_index=True, right_index=True)"
   ]
  },
  {
   "cell_type": "code",
   "execution_count": 13,
   "metadata": {},
   "outputs": [],
   "source": [
    "features = ['C1', 'C2', 'C3', 'female', 'male', 'C', 'Q', 'S', 'Age', 'Fare', 'Alone']\n",
    "X = interestdf[features]\n",
    "y = interestdf['Survived']"
   ]
  },
  {
   "cell_type": "code",
   "execution_count": 14,
   "metadata": {},
   "outputs": [],
   "source": [
    "sns.pairplot(X)"
   ]
  },
  {
   "cell_type": "markdown",
   "metadata": {},
   "source": [
    "#### Model Testing\n",
    "\n",
    "At this point we have done all the feature preprocessing we want and identitied the features we want to use for our models, lets begin with the test data feature processing."
   ]
  },
  {
   "cell_type": "code",
   "execution_count": 15,
   "metadata": {},
   "outputs": [
    {
     "name": "stderr",
     "output_type": "stream",
     "text": [
      "C:\\Users\\ruben\\AppData\\Local\\Temp\\ipykernel_6608\\2375276164.py:7: SettingWithCopyWarning: \n",
      "A value is trying to be set on a copy of a slice from a DataFrame\n",
      "\n",
      "See the caveats in the documentation: https://pandas.pydata.org/pandas-docs/stable/user_guide/indexing.html#returning-a-view-versus-a-copy\n",
      "  test['Alone'][index] = 1\n",
      "C:\\Users\\ruben\\AppData\\Local\\Temp\\ipykernel_6608\\2375276164.py:5: SettingWithCopyWarning: \n",
      "A value is trying to be set on a copy of a slice from a DataFrame\n",
      "\n",
      "See the caveats in the documentation: https://pandas.pydata.org/pandas-docs/stable/user_guide/indexing.html#returning-a-view-versus-a-copy\n",
      "  test['Alone'][index] = 0\n"
     ]
    }
   ],
   "source": [
    "test['Alone'] = test['SibSp'] + test['Parch']\n",
    "\n",
    "for index in range(len(test)):\n",
    "    if test['Alone'][index] != 0:\n",
    "        test['Alone'][index] = 0\n",
    "    else:\n",
    "        test['Alone'][index] = 1\n",
    "\n",
    "feature_array = oneHot.fit_transform(test[['Pclass', 'Sex', 'Embarked']]).toarray()\n",
    "\n",
    "feature_labels = oneHot.categories_\n",
    "feature_labels = list(np.concatenate(feature_labels).flat)\n",
    "feature_labels[0] = 'C1'\n",
    "feature_labels[1] = 'C2'\n",
    "feature_labels[2] = 'C3'\n",
    "\n",
    "encoded_features = pd.DataFrame(feature_array, columns=feature_labels)\n",
    "\n",
    "interestdf = test.merge(encoded_features, left_index=True, right_index=True)\n",
    "\n",
    "features = ['C1', 'C2', 'C3', 'female', 'male', 'C', 'Q', 'S', 'Age', 'Fare', 'Alone']\n",
    "X_test = interestdf[features]\n",
    "y_test = interestdf['Survived']"
   ]
  },
  {
   "cell_type": "markdown",
   "metadata": {},
   "source": [
    "#### Logistic Regression"
   ]
  },
  {
   "cell_type": "code",
   "execution_count": 16,
   "metadata": {},
   "outputs": [
    {
     "name": "stdout",
     "output_type": "stream",
     "text": [
      "Train LR Confusion Matrix\n",
      "      0    1\n",
      "0  465   84\n",
      "1  100  242\n",
      "Train Accuracy 0.7934904601571269\n",
      "Test LR Confusion Matrix\n",
      "      0    1\n",
      "0  253   13\n",
      "1    8  144\n",
      "Test Accuracy 0.9497607655502392\n"
     ]
    },
    {
     "data": {
      "text/html": [
       "<div>\n",
       "<style scoped>\n",
       "    .dataframe tbody tr th:only-of-type {\n",
       "        vertical-align: middle;\n",
       "    }\n",
       "\n",
       "    .dataframe tbody tr th {\n",
       "        vertical-align: top;\n",
       "    }\n",
       "\n",
       "    .dataframe thead th {\n",
       "        text-align: right;\n",
       "    }\n",
       "</style>\n",
       "<table border=\"1\" class=\"dataframe\">\n",
       "  <thead>\n",
       "    <tr style=\"text-align: right;\">\n",
       "      <th></th>\n",
       "      <th>C1</th>\n",
       "      <th>C2</th>\n",
       "      <th>C3</th>\n",
       "      <th>female</th>\n",
       "      <th>male</th>\n",
       "      <th>C</th>\n",
       "      <th>Q</th>\n",
       "      <th>S</th>\n",
       "      <th>Age</th>\n",
       "      <th>Fare</th>\n",
       "      <th>Alone</th>\n",
       "    </tr>\n",
       "  </thead>\n",
       "  <tbody>\n",
       "    <tr>\n",
       "      <th>0</th>\n",
       "      <td>0.954611</td>\n",
       "      <td>0.15191</td>\n",
       "      <td>-1.106478</td>\n",
       "      <td>1.258292</td>\n",
       "      <td>-1.25825</td>\n",
       "      <td>0.17816</td>\n",
       "      <td>0.154888</td>\n",
       "      <td>-0.333007</td>\n",
       "      <td>-0.416391</td>\n",
       "      <td>0.117811</td>\n",
       "      <td>0.150993</td>\n",
       "    </tr>\n",
       "  </tbody>\n",
       "</table>\n",
       "</div>"
      ],
      "text/plain": [
       "         C1       C2        C3    female     male        C         Q  \\\n",
       "0  0.954611  0.15191 -1.106478  1.258292 -1.25825  0.17816  0.154888   \n",
       "\n",
       "          S       Age      Fare     Alone  \n",
       "0 -0.333007 -0.416391  0.117811  0.150993  "
      ]
     },
     "execution_count": 16,
     "metadata": {},
     "output_type": "execute_result"
    }
   ],
   "source": [
    "LR_mod = LogisticRegression().fit(X,y)\n",
    "LR_y_pred = LR_mod.predict(X)\n",
    "\n",
    "print('Train LR Confusion Matrix\\n',pd.DataFrame(confusion_matrix(y,LR_y_pred, labels=[0,1])))\n",
    "print('Train Accuracy', accuracy_score(y,LR_y_pred))\n",
    "\n",
    "test_LR_y_pred = LR_mod.predict(X_test)\n",
    "print('Test LR Confusion Matrix\\n',pd.DataFrame(confusion_matrix(y_test,test_LR_y_pred, labels=[0,1])))\n",
    "print('Test Accuracy', accuracy_score(y_test,test_LR_y_pred))\n",
    "\n",
    "pd.DataFrame(LR_mod.coef_, columns=LR_mod.feature_names_in_)\n"
   ]
  },
  {
   "cell_type": "markdown",
   "metadata": {},
   "source": [
    "#### Decision Tree"
   ]
  },
  {
   "cell_type": "code",
   "execution_count": 17,
   "metadata": {},
   "outputs": [
    {
     "name": "stdout",
     "output_type": "stream",
     "text": [
      "Train DT Confusion Matrix\n",
      "      0    1\n",
      "0  547    2\n",
      "1   16  326\n",
      "Train Accuracy 0.9797979797979798\n",
      "Test LR Confusion Matrix\n",
      "      0    1\n",
      "0  206   60\n",
      "1   39  113\n",
      "Test Accuracy 0.7631578947368421\n"
     ]
    },
    {
     "data": {
      "text/html": [
       "<div>\n",
       "<style scoped>\n",
       "    .dataframe tbody tr th:only-of-type {\n",
       "        vertical-align: middle;\n",
       "    }\n",
       "\n",
       "    .dataframe tbody tr th {\n",
       "        vertical-align: top;\n",
       "    }\n",
       "\n",
       "    .dataframe thead th {\n",
       "        text-align: right;\n",
       "    }\n",
       "</style>\n",
       "<table border=\"1\" class=\"dataframe\">\n",
       "  <thead>\n",
       "    <tr style=\"text-align: right;\">\n",
       "      <th></th>\n",
       "      <th>C1</th>\n",
       "      <th>C2</th>\n",
       "      <th>C3</th>\n",
       "      <th>female</th>\n",
       "      <th>male</th>\n",
       "      <th>C</th>\n",
       "      <th>Q</th>\n",
       "      <th>S</th>\n",
       "      <th>Age</th>\n",
       "      <th>Fare</th>\n",
       "      <th>Alone</th>\n",
       "    </tr>\n",
       "  </thead>\n",
       "  <tbody>\n",
       "    <tr>\n",
       "      <th>0</th>\n",
       "      <td>0.027693</td>\n",
       "      <td>0.001289</td>\n",
       "      <td>0.092446</td>\n",
       "      <td>0.310881</td>\n",
       "      <td>0.0</td>\n",
       "      <td>0.007723</td>\n",
       "      <td>0.00051</td>\n",
       "      <td>0.016865</td>\n",
       "      <td>0.238799</td>\n",
       "      <td>0.286987</td>\n",
       "      <td>0.016807</td>\n",
       "    </tr>\n",
       "  </tbody>\n",
       "</table>\n",
       "</div>"
      ],
      "text/plain": [
       "         C1        C2        C3    female  male         C        Q         S  \\\n",
       "0  0.027693  0.001289  0.092446  0.310881   0.0  0.007723  0.00051  0.016865   \n",
       "\n",
       "        Age      Fare     Alone  \n",
       "0  0.238799  0.286987  0.016807  "
      ]
     },
     "execution_count": 17,
     "metadata": {},
     "output_type": "execute_result"
    }
   ],
   "source": [
    "DT_mod = DecisionTreeClassifier().fit(X,y)\n",
    "DT_y_pred = DT_mod.predict(X)\n",
    "\n",
    "print('Train DT Confusion Matrix\\n',pd.DataFrame(confusion_matrix(y,DT_y_pred, labels=[0,1])))\n",
    "print('Train Accuracy', accuracy_score(y,DT_y_pred))\n",
    "\n",
    "test_DT_y_pred = DT_mod.predict(X_test)\n",
    "print('Test LR Confusion Matrix\\n',pd.DataFrame(confusion_matrix(y_test,test_DT_y_pred, labels=[0,1])))\n",
    "print('Test Accuracy', accuracy_score(y_test,test_DT_y_pred))\n",
    "\n",
    "labels = DT_mod.feature_names_in_\n",
    "coefs = np.reshape(DT_mod.feature_importances_,(1,11))\n",
    "\n",
    "pd.DataFrame(coefs, columns=labels)"
   ]
  },
  {
   "cell_type": "markdown",
   "metadata": {},
   "source": [
    "#### Random Forest"
   ]
  },
  {
   "cell_type": "code",
   "execution_count": 18,
   "metadata": {},
   "outputs": [
    {
     "name": "stdout",
     "output_type": "stream",
     "text": [
      "Train RF Confusion Matrix\n",
      "      0    1\n",
      "0  543    6\n",
      "1   12  330\n",
      "Train Accuracy 0.9797979797979798\n",
      "Test RF Confusion Matrix\n",
      "      0    1\n",
      "0  231   35\n",
      "1   34  118\n",
      "Test Accuracy 0.8349282296650717\n",
      "         C1        C2        C3    female      male         C         Q  \\\n",
      "0  0.028152  0.018968  0.055322  0.140708  0.137968  0.011398  0.008298   \n",
      "\n",
      "          S       Age      Fare     Alone  \n",
      "0  0.012444  0.268001  0.294847  0.023895  \n",
      "{'criterion': 'gini', 'max_depth': None, 'max_leaf_nodes': 10, 'min_samples_leaf': 5, 'min_samples_split': 5, 'n_estimators': 75} RandomForestClassifier(max_leaf_nodes=10, min_samples_leaf=5,\n",
      "                       min_samples_split=5, n_estimators=75) 0.821542903772519\n",
      "Test best RF Confusion Matrix\n",
      "      0    1\n",
      "0  264    2\n",
      "1   22  130\n",
      "Test Accuracy 0.9425837320574163\n"
     ]
    }
   ],
   "source": [
    "RF_mod = RandomForestClassifier().fit(X,y)\n",
    "RF_y_pred = RF_mod.predict(X)\n",
    "\n",
    "print('Train RF Confusion Matrix\\n',pd.DataFrame(confusion_matrix(y,RF_y_pred, labels=[0,1])))\n",
    "print('Train Accuracy', accuracy_score(y,RF_y_pred))\n",
    "\n",
    "test_RF_y_pred = RF_mod.predict(X_test)\n",
    "print('Test RF Confusion Matrix\\n',pd.DataFrame(confusion_matrix(y_test,test_RF_y_pred, labels=[0,1])))\n",
    "print('Test Accuracy', accuracy_score(y_test,test_RF_y_pred))\n",
    "\n",
    "labels = RF_mod.feature_names_in_\n",
    "coefs = np.reshape(RF_mod.feature_importances_,(1,11))\n",
    "\n",
    "print(pd.DataFrame(coefs, columns=labels))\n",
    "\n",
    "# GridSearch Random Forest\n",
    "\n",
    "parameters = {\n",
    "    'n_estimators': [75, 100, 150, 200],\n",
    "    'criterion': ['gini','entropy'],\n",
    "    'max_depth': [None, 1, 3, 5],\n",
    "    'min_samples_split': [2, 5, 10],\n",
    "    'min_samples_leaf': [1, 5, 10],\n",
    "    'max_leaf_nodes': [None, 10, 20]\n",
    "    }\n",
    "\n",
    "GS = GridSearchCV(RandomForestClassifier(), parameters, cv=5)\n",
    "GS.fit(X,y)\n",
    "\n",
    "print(GS.best_params_, GS.best_estimator_, GS.best_score_)\n",
    "best = GS.best_estimator_.predict(X_test)\n",
    "print('Test best RF Confusion Matrix\\n',pd.DataFrame(confusion_matrix(y_test,best, labels=[0,1])))\n",
    "print('Test Accuracy', accuracy_score(y_test,best))"
   ]
  },
  {
   "cell_type": "markdown",
   "metadata": {},
   "source": [
    "#### AdaBoost Classifier"
   ]
  },
  {
   "cell_type": "code",
   "execution_count": 19,
   "metadata": {},
   "outputs": [
    {
     "name": "stdout",
     "output_type": "stream",
     "text": [
      "Train AB Confusion Matrix\n",
      "      0    1\n",
      "0  483   66\n",
      "1   78  264\n",
      "Train Accuracy 0.8383838383838383\n",
      "Test AB Confusion Matrix\n",
      "      0    1\n",
      "0  235   31\n",
      "1   14  138\n",
      "Test Accuracy 0.8923444976076556\n",
      "     C1    C2    C3  female  male    C    Q     S  Age  Fare  Alone\n",
      "0  0.04  0.02  0.04     0.0  0.04  0.0  0.0  0.02  0.3  0.52   0.02\n",
      "{'learning_rate': 1.25} AdaBoostClassifier(learning_rate=1.25) 0.8103571652752495\n",
      "Test best AB Confusion Matrix\n",
      "      0    1\n",
      "0  234   32\n",
      "1   14  138\n",
      "Test Accuracy 0.8899521531100478\n"
     ]
    }
   ],
   "source": [
    "AB_mod = AdaBoostClassifier().fit(X,y)\n",
    "AB_y_pred = AB_mod.predict(X)\n",
    "\n",
    "print('Train AB Confusion Matrix\\n',pd.DataFrame(confusion_matrix(y,AB_y_pred, labels=[0,1])))\n",
    "print('Train Accuracy', accuracy_score(y,AB_y_pred))\n",
    "\n",
    "test_AB_y_pred = AB_mod.predict(X_test)\n",
    "print('Test AB Confusion Matrix\\n',pd.DataFrame(confusion_matrix(y_test,test_AB_y_pred, labels=[0,1])))\n",
    "print('Test Accuracy', accuracy_score(y_test,test_AB_y_pred))\n",
    "\n",
    "labels = AB_mod.feature_names_in_\n",
    "coefs = np.reshape(AB_mod.feature_importances_,(1,11))\n",
    "\n",
    "print(pd.DataFrame(coefs, columns=labels))\n",
    "\n",
    "# GridSearch AdaBoost\n",
    "\n",
    "parameters = {\n",
    "    'learning_rate': [0.5, 1, 1.25, 1.5, 1.75, 2],\n",
    "    }\n",
    "\n",
    "GS = GridSearchCV(AdaBoostClassifier(), parameters, cv=5)\n",
    "GS.fit(X,y)\n",
    "\n",
    "print(GS.best_params_, GS.best_estimator_, GS.best_score_)\n",
    "best = GS.best_estimator_.predict(X_test)\n",
    "print('Test best AB Confusion Matrix\\n',pd.DataFrame(confusion_matrix(y_test,best, labels=[0,1])))\n",
    "print('Test Accuracy', accuracy_score(y_test,best))"
   ]
  },
  {
   "cell_type": "markdown",
   "metadata": {},
   "source": [
    "#### Support Vector Classifier"
   ]
  },
  {
   "cell_type": "code",
   "execution_count": 22,
   "metadata": {},
   "outputs": [
    {
     "name": "stdout",
     "output_type": "stream",
     "text": [
      "Train SV Confusion Matrix\n",
      "      0    1\n",
      "0  506   43\n",
      "1  116  226\n",
      "Train Accuracy 0.8215488215488216\n",
      "Test SV Confusion Matrix\n",
      "      0    1\n",
      "0  265    1\n",
      "1   23  129\n",
      "Test Accuracy 0.9425837320574163\n",
      "{'C': 10, 'kernel': 'rbf'} SVC(C=10) 0.8103254769921436\n",
      "Test best SV Confusion Matrix\n",
      "      0    1\n",
      "0  257    9\n",
      "1   39  113\n",
      "Test Accuracy 0.8851674641148325\n"
     ]
    }
   ],
   "source": [
    "SV_mod = SVC().fit(X,y)\n",
    "SV_y_pred = SV_mod.predict(X)\n",
    "\n",
    "print('Train SV Confusion Matrix\\n',pd.DataFrame(confusion_matrix(y,SV_y_pred, labels=[0,1])))\n",
    "print('Train Accuracy', accuracy_score(y,SV_y_pred))\n",
    "\n",
    "test_SV_y_pred = SV_mod.predict(X_test)\n",
    "print('Test SV Confusion Matrix\\n',pd.DataFrame(confusion_matrix(y_test,test_SV_y_pred, labels=[0,1])))\n",
    "print('Test Accuracy', accuracy_score(y_test,test_SV_y_pred))\n",
    "\n",
    "# GridSearch Suport Vector Classifier\n",
    "\n",
    "parameters = {\n",
    "    'C': [0.25, 1, 10],\n",
    "    'kernel': ['poly', 'rbf']\n",
    "    }\n",
    "\n",
    "GS = GridSearchCV(SVC(), parameters, cv=3)\n",
    "GS.fit(X,y)\n",
    "\n",
    "print(GS.best_params_, GS.best_estimator_, GS.best_score_)\n",
    "best = GS.best_estimator_.predict(X_test)\n",
    "print('Test best SV Confusion Matrix\\n',pd.DataFrame(confusion_matrix(y_test,best, labels=[0,1])))\n",
    "print('Test Accuracy', accuracy_score(y_test,best))"
   ]
  }
 ],
 "metadata": {
  "kernelspec": {
   "display_name": "Python 3.10.2 64-bit",
   "language": "python",
   "name": "python3"
  },
  "language_info": {
   "codemirror_mode": {
    "name": "ipython",
    "version": 3
   },
   "file_extension": ".py",
   "mimetype": "text/x-python",
   "name": "python",
   "nbconvert_exporter": "python",
   "pygments_lexer": "ipython3",
   "version": "3.10.6"
  },
  "orig_nbformat": 4,
  "vscode": {
   "interpreter": {
    "hash": "fa5e5e9a487e2dd76c7ea7823608b3e5576beb764152fabbf69ac7563ac3923b"
   }
  }
 },
 "nbformat": 4,
 "nbformat_minor": 2
}
